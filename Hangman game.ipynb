{
 "cells": [
  {
   "cell_type": "code",
   "execution_count": 2,
   "metadata": {},
   "outputs": [
    {
     "name": "stdin",
     "output_type": "stream",
     "text": [
      "Enter your name:- mo\n"
     ]
    },
    {
     "name": "stdout",
     "output_type": "stream",
     "text": [
      "=============================================\n",
      "Welcome:  Mo\n",
      "=============================================\n",
      "try to guess the word in less than 10 attempts\n",
      "Guess the alphabet: - - - - - \n"
     ]
    },
    {
     "name": "stdin",
     "output_type": "stream",
     "text": [
      " p\n"
     ]
    },
    {
     "name": "stdout",
     "output_type": "stream",
     "text": [
      "Guess the alphabet: - pp- - \n"
     ]
    },
    {
     "name": "stdin",
     "output_type": "stream",
     "text": [
      " a\n"
     ]
    },
    {
     "name": "stdout",
     "output_type": "stream",
     "text": [
      "Guess the alphabet: app- - \n"
     ]
    },
    {
     "name": "stdin",
     "output_type": "stream",
     "text": [
      " l\n"
     ]
    },
    {
     "name": "stdout",
     "output_type": "stream",
     "text": [
      "Guess the alphabet: appl- \n"
     ]
    },
    {
     "name": "stdin",
     "output_type": "stream",
     "text": [
      " e\n"
     ]
    },
    {
     "name": "stdout",
     "output_type": "stream",
     "text": [
      "You win the Game Congratulation!\n"
     ]
    },
    {
     "name": "stdin",
     "output_type": "stream",
     "text": [
      "You Wnat to play again (y/n): n\n"
     ]
    },
    {
     "name": "stdout",
     "output_type": "stream",
     "text": [
      "Thank you to play this game :)\n"
     ]
    }
   ],
   "source": [
    "import random\n",
    "\n",
    "def not_valid(a):\n",
    "    validLetters = 'abcdefghijklmnopqrstuvwxyz'\n",
    "    return a not in validLetters\n",
    "\n",
    "def play():\n",
    "    word=random.choice([\"pugger\" , \"littlepugger\" , \"tiger\" , \"superman\" , \"thor\" , \"pokemon\" , \"avengers\" , \"savewater\" , \"earth\" , \"annable\" ])\n",
    "    #word='apple'\n",
    "    turns = 10\n",
    "    guessmade = ''\n",
    "    \n",
    "    while(True):\n",
    "        main=''\n",
    "        missed=0\n",
    "        for letter in word:\n",
    "            if letter in guessmade:\n",
    "                main+=letter                  \n",
    "            else:\n",
    "                main+='-'+' '\n",
    "                \n",
    "        if main == word:\n",
    "            print('You win the Game Congratulation!')\n",
    "            \n",
    "            f=open('a.txt','wt')\n",
    "            f.write('\n'+name+'\t')\n",
    "            f.write(date+'\t')\n",
    "            f.write(time+'\t')\n",
    "            f.write('win')\n",
    "            f.close()\n",
    "            \n",             
    "            ans=input('You Wnat to play again (y/n):')\n",
    "            if(ans=='y'):\n",
    "                play()\n",
    "            else:\n",
    "                print(\"Thank you to play this game :)\")\n",
    "                break\n",
    "                \n",
    "        print(\"Guess the alphabet:\" , main)\n",
    "        guess = input()\n",
    "        \n",
    "        while(not_valid(guess)):\n",
    "            guess=input('Enter a valid Alphabet:-')\n",
    "        else:\n",
    "            guessmade+=guess\n",
    "            \n",
    "        if guess not in word:\n",
    "            turns = turns - 1\n",
    "            if turns == 9:\n",
    "                print(\"9 turns left\")\n",
    "                print(\"  --------  \")\n",
    "            if turns == 8:\n",
    "                print(\"8 turns left\")\n",
    "                print(\"  --------  \")\n",
    "                print(\"     O      \")\n",
    "            if turns == 7:\n",
    "                print(\"7 turns left\")\n",
    "                print(\"  --------  \")\n",
    "                print(\"     O      \")\n",
    "                print(\"     |      \")\n",
    "            if turns == 6:\n",
    "                print(\"6 turns left\")\n",
    "                print(\"  --------  \")\n",
    "                print(\"     O      \")\n",
    "                print(\"     |      \")\n",
    "                print(\"    /       \")\n",
    "            if turns == 5:\n",
    "                print(\"5 turns left\")\n",
    "                print(\"  --------  \")\n",
    "                print(\"     O      \")\n",
    "                print(\"     |      \")\n",
    "                print(\"    / \\     \")\n",
    "            if turns == 4:\n",
    "                print(\"4 turns left\")\n",
    "                print(\"  --------  \")\n",
    "                print(\"   \\ O      \")\n",
    "                print(\"     |      \")\n",
    "                print(\"    / \\     \")\n",
    "            if turns == 3:\n",
    "                print(\"3 turns left\")\n",
    "                print(\"  --------  \")\n",
    "                print(\"   \\ O /    \")\n",
    "                print(\"     |      \")\n",
    "                print(\"    / \\     \")\n",
    "            if turns == 2:\n",
    "                print(\"2 turns left\")\n",
    "                print(\"  --------  \")\n",
    "                print(\"   \\ O /|   \")\n",
    "                print(\"     |      \")\n",
    "                print(\"    / \\     \")\n",
    "            if turns == 1:\n",
    "                print(\"1 turns left\")\n",
    "                print(\"Last breaths counting, Take care!\")\n",
    "                print(\"  --------  \")\n",
    "                print(\"   \\ O_|/   \")\n",
    "                print(\"     |      \")\n",
    "                print(\"    / \\     \")\n",
    "            if turns == 0:\n",
    "                print(\"You loose\")\n",
    "                print(\"You let a kind man die\")\n",
    "                print(\"  --------  \")\n",
    "                print(\"     O_|    \")\n",
    "                print(\"    /|\\      \")\n",
    "                print(\"    / \\     \")\n",
    "                break\n",
    "        \n",
    "name = input(\"Enter your name:-\")\n",
    "print(''.center(45,'='))\n",
    "print('Welcome: ',name.title())\n",
    "print(''.center(45,'='))\n",
    "print(\"try to guess the word in less than 10 attempts\")\n",
    "play()"
   ]
  },
  {
   "cell_type": "code",
   "execution_count": null,
   "metadata": {},
   "outputs": [],
   "source": []
  }
 ],
 "metadata": {
  "kernelspec": {
   "display_name": "Python 3",
   "language": "python",
   "name": "python3"
  },
  "language_info": {
   "codemirror_mode": {
    "name": "ipython",
    "version": 3
   },
   "file_extension": ".py",
   "mimetype": "text/x-python",
   "name": "python",
   "nbconvert_exporter": "python",
   "pygments_lexer": "ipython3",
   "version": "3.7.4"
  }
 },
 "nbformat": 4,
 "nbformat_minor": 4
}
